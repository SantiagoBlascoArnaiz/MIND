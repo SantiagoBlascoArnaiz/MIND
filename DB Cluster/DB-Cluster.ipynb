{
 "cells": [
  {
   "cell_type": "markdown",
   "metadata": {},
   "source": [
    "# Práctica 4 "
   ]
  },
  {
   "cell_type": "markdown",
   "metadata": {},
   "source": [
    "## Santiago Blasco Arnaiz"
   ]
  },
  {
   "cell_type": "markdown",
   "metadata": {},
   "source": [
    "# Divisivo basado en distancias (DB-Cluster)"
   ]
  },
  {
   "cell_type": "code",
   "execution_count": 1,
   "metadata": {},
   "outputs": [],
   "source": [
    "import numpy as np\n",
    "from math import inf\n",
    "from scipy.cluster.hierarchy import dendrogram, linkage\n",
    "from matplotlib import pyplot as plt\n",
    "import math, itertools"
   ]
  },
  {
   "cell_type": "code",
   "execution_count": 2,
   "metadata": {},
   "outputs": [],
   "source": [
    "X = [[0,1,3,4,7],\n",
    "    [1,0,4,4,8],\n",
    "    [3,4,0,2,8],\n",
    "    [4,4,2,0,7],\n",
    "    [7,8,8,7,0]]"
   ]
  },
  {
   "cell_type": "code",
   "execution_count": 3,
   "metadata": {},
   "outputs": [],
   "source": [
    "def variability(index, M):\n",
    "    T = M.copy()\n",
    "    v = 0\n",
    "    \n",
    "    for i in index:\n",
    "        for j in index:\n",
    "\n",
    "            if j > i:\n",
    "                v = v + np.power((T[i][j]),2)\n",
    "    v = v / (2 * np.power(len(index),2))\n",
    "    \n",
    "    return v"
   ]
  },
  {
   "cell_type": "code",
   "execution_count": 4,
   "metadata": {},
   "outputs": [],
   "source": [
    "def bestPartition(clusters,M):\n",
    "    clustersCopy = clusters.copy()\n",
    "    T = M.copy()\n",
    "    \n",
    "    partition = [inf] * 4\n",
    "    \n",
    "    for c in clustersCopy:\n",
    "        for i in range(1, math.ceil((len(c)+1)/2)):\n",
    "            for part1 in list(itertools.combinations(c, i)):\n",
    "                \n",
    "                part2 = [item for item in c if item not in part1]\n",
    "                v = ( len(list(part1)) * variability(part1,T) ) + ( len(list(part2)) * variability(part2,T) )\n",
    "                if v < partition[3]:\n",
    "                    partition = [c,list(part1),part2,v]\n",
    "    \n",
    "    #Le damos como altura la variabilidad del cluster del que proviene\n",
    "    partition[3] = variability(partition[0],T)\n",
    "                    \n",
    "    return partition"
   ]
  },
  {
   "cell_type": "code",
   "execution_count": 5,
   "metadata": {},
   "outputs": [],
   "source": [
    "def DBcluster(M):\n",
    "    T = M.copy()\n",
    "    \n",
    "    clusterI = [[i for i in range(len(T))]]\n",
    "    P = []\n",
    "    U = []\n",
    "    index = len(T)\n",
    "    headC = [[i] for i in range(len(T))]\n",
    "    headI = [i for i in range(len(T))]\n",
    "    \n",
    "    for i in range(len(M)-1):\n",
    "        newPartition = bestPartition(clusterI,T)\n",
    "        clusterI.remove(newPartition[0])\n",
    "        \n",
    "        if len(newPartition[1]) > 1:\n",
    "            clusterI.append(newPartition[1])\n",
    "        if len(newPartition[2]) > 1:\n",
    "            clusterI.append(newPartition[2])\n",
    "        P.insert(0,newPartition)\n",
    "    \n",
    "    for div in P:\n",
    "\n",
    "        i = headC.index(div[1])\n",
    "        j = headC.index(div[2])\n",
    "        \n",
    "        U.append([headI[min(i,j)],headI[max(i,j)],div[3],len(div[0])])\n",
    "\n",
    "        del headC[max(i,j)]\n",
    "        del headC[min(i,j)]\n",
    "        \n",
    "        del headI[max(i,j)]\n",
    "        del headI[min(i,j)]\n",
    "        \n",
    "        headC.append(div[0])\n",
    "        headI.append(index)\n",
    "\n",
    "        index = index + 1\n",
    "    \n",
    "    U = np.array(U, dtype='float')\n",
    "     \n",
    "    return U\n",
    "        \n",
    "    "
   ]
  },
  {
   "cell_type": "code",
   "execution_count": 6,
   "metadata": {},
   "outputs": [
    {
     "data": {
      "text/plain": [
       "array([[2.    , 3.    , 0.5   , 2.    ],\n",
       "       [0.    , 1.    , 0.125 , 2.    ],\n",
       "       [5.    , 6.    , 1.9375, 4.    ],\n",
       "       [4.    , 7.    , 5.76  , 5.    ]])"
      ]
     },
     "execution_count": 6,
     "metadata": {},
     "output_type": "execute_result"
    }
   ],
   "source": [
    "DBcluster(X)"
   ]
  },
  {
   "cell_type": "code",
   "execution_count": 7,
   "metadata": {},
   "outputs": [],
   "source": [
    "Y = DBcluster(X)"
   ]
  },
  {
   "cell_type": "code",
   "execution_count": 8,
   "metadata": {},
   "outputs": [
    {
     "data": {
      "image/png": "[encoded data removed]",
      "text/plain": [
       "<Figure size 720x720 with 1 Axes>"
      ]
     },
     "metadata": {
      "needs_background": "light"
     },
     "output_type": "display_data"
    }
   ],
   "source": [
    "fig = plt.figure(figsize=(10, 10))\n",
    "dn = dendrogram(Y)"
   ]
  },
  {
   "cell_type": "markdown",
   "metadata": {},
   "source": [
    "# Ejercicio Iris (kmeans reducido con ward)"
   ]
  },
  {
   "cell_type": "code",
   "execution_count": 9,
   "metadata": {},
   "outputs": [],
   "source": [
    "from sklearn.datasets import load_iris\n",
    "from sklearn.preprocessing import scale\n",
    "from sklearn.cluster import AgglomerativeClustering\n",
    "from sklearn.metrics import accuracy_score\n",
    "from scipy.stats import mode\n",
    "from sklearn.preprocessing import scale\n",
    "from sklearn.cluster import KMeans\n",
    "import pandas as pd"
   ]
  },
  {
   "cell_type": "code",
   "execution_count": 10,
   "metadata": {},
   "outputs": [],
   "source": [
    "#Cargamos el dataset\n",
    "iris = load_iris()\n",
    "X,Y = load_iris(return_X_y=True)\n",
    "#Escalamos los datos\n",
    "X = scale(X)\n",
    "max_clusters = 15\n",
    "min_clusters = 3\n"
   ]
  },
  {
   "cell_type": "code",
   "execution_count": 11,
   "metadata": {},
   "outputs": [
    {
     "name": "stdout",
     "output_type": "stream",
     "text": [
      "[1 0 2 1 0 0 2 2 1 1 1 2 2 2 0]\n"
     ]
    }
   ],
   "source": [
    "#Número de clusters\n",
    "k = 6 + 9\n",
    "\n",
    "kmeans = KMeans(n_clusters=k, random_state=7)\n",
    "#Entrenamiento\n",
    "kmeans.fit(X)\n",
    "\n",
    "modaKmeans = -1 * np.ones(k, dtype='int')\n",
    "for i in range(k):\n",
    "    #Sacamos la moda de cada cluster\n",
    "    modaKmeans[i] = mode(Y[np.argwhere(kmeans.labels_ == i)])[0].astype(int)\n",
    "\n",
    "#Hacemos que los centroides obtenidos sean las muestras con las que trbaajrá ward \n",
    "X = kmeans.cluster_centers_\n",
    "\n",
    "#Los valores objetivo son las modas de cada uno de los clusters\n",
    "Y = modaKmeans\n",
    "print(Y)"
   ]
  },
  {
   "cell_type": "code",
   "execution_count": 12,
   "metadata": {},
   "outputs": [
    {
     "name": "stdout",
     "output_type": "stream",
     "text": [
      "0.8666666666666667\n"
     ]
    }
   ],
   "source": [
    "#Número de clusters\n",
    "k = 6\n",
    "\n",
    "clustering = AgglomerativeClustering(n_clusters= k, linkage=\"ward\")\n",
    "#Entrenamiento\n",
    "clustering.fit(X)\n",
    "\n",
    "moda = -1 * np.ones(k, dtype='int')\n",
    "for i in range(k):\n",
    "    #Sacamos la moda de cada cluster\n",
    "    moda[i] = mode(Y[np.argwhere(clustering.labels_ == i)])[0].astype(int)\n",
    "    \n",
    "#Predicción\n",
    "y_predict = moda[clustering.labels_]\n",
    "\n",
    "#Calculamos el porcentaje de acierto\n",
    "aciertosWard = accuracy_score(Y, y_predict)\n",
    "\n",
    "print(aciertosWard)"
   ]
  },
  {
   "cell_type": "markdown",
   "metadata": {},
   "source": [
    "La tasa de acierto generando 15 clusters con kmeans y reduciendolos a 6 con warp es del 86'67 %"
   ]
  }
 ],
 "metadata": {
  "kernelspec": {
   "display_name": "Python 3",
   "language": "python",
   "name": "python3"
  },
  "language_info": {
   "codemirror_mode": {
    "name": "ipython",
    "version": 3
   },
   "file_extension": ".py",
   "mimetype": "text/x-python",
   "name": "python",
   "nbconvert_exporter": "python",
   "pygments_lexer": "ipython3",
   "version": "3.6.8"
  }
 },
 "nbformat": 4,
 "nbformat_minor": 2
}
