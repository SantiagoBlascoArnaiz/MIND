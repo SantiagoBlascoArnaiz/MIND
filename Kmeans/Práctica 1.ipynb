{
 "cells": [
  {
   "cell_type": "markdown",
   "metadata": {},
   "source": [
    "# Práctica inicial clustering\n",
    "## Santiago Blasco Arnaiz"
   ]
  },
  {
   "cell_type": "code",
   "execution_count": 5,
   "metadata": {},
   "outputs": [],
   "source": [
    "import numpy as np\n",
    "from sklearn.datasets import load_iris\n",
    "from sklearn.preprocessing import MinMaxScaler\n",
    "from sklearn.cluster import KMeans\n",
    "from sklearn.preprocessing import scale\n",
    "from sklearn.model_selection import StratifiedKFold\n",
    "from sklearn.metrics import accuracy_score\n",
    "from scipy.stats import mode\n",
    "import operator"
   ]
  },
  {
   "cell_type": "code",
   "execution_count": 6,
   "metadata": {},
   "outputs": [],
   "source": [
    "#Cargamos el dataset\n",
    "iris = load_iris()\n",
    "X,Y = load_iris(return_X_y=True)"
   ]
  },
  {
   "cell_type": "code",
   "execution_count": 7,
   "metadata": {},
   "outputs": [],
   "source": [
    "#Escalamos los datos\n",
    "X = scale(X)"
   ]
  },
  {
   "cell_type": "code",
   "execution_count": 61,
   "metadata": {},
   "outputs": [
    {
     "name": "stdout",
     "output_type": "stream",
     "text": [
      "3 -> 0.8333333333333334\n",
      "4 -> 0.8333333333333334\n",
      "5 -> 0.8533333333333334\n",
      "6 -> 0.8466666666666668\n",
      "7 -> 0.8600000000000001\n",
      "8 -> 0.8666666666666667\n",
      "9 -> 0.8866666666666667\n",
      "10 -> 0.9333333333333333\n",
      "El número de clusters óptimo (procentaje de acierto del  0.9333333333333333 ) es  10  .\n"
     ]
    }
   ],
   "source": [
    "#XV 10 particiones\n",
    "PARTITIONS = 10\n",
    "\n",
    "#Número de clusters del más eficiente\n",
    "best = 0\n",
    "#Valor de la eficiencia del número de clasters más eficiente\n",
    "bestPCorrect = 0\n",
    "\n",
    "#\n",
    "for k in range(3, 11):\n",
    "    \n",
    "    #Algoritmo kmeans dependiendo del número de clusters\n",
    "    kmeans = KMeans(n_clusters=k, random_state=7)\n",
    "    PCorrect = 0\n",
    "    \n",
    "    #Se pide validación cruzada de 10 fold estratificada\n",
    "    skfold = StratifiedKFold(n_splits=PARTITIONS, random_state=7)\n",
    "    skfold = skfold.split(X, Y)\n",
    "    \n",
    "    for train_index, test_index in skfold:\n",
    "        # Entrenamiento\n",
    "        kmeans.fit(X[train_index])\n",
    "        #Predicción\n",
    "        Y_pred = kmeans.predict(X[test_index])\n",
    "\n",
    "        moda = -1 * np.ones(k, dtype='int')\n",
    "        #Hayamos la etiqueta que más se repite en cada cluster\n",
    "        for i in range(k):\n",
    "                            #Extraemos la etiqueta de las posiciones que \n",
    "                            #deberían contener datos etiquetados como cluster i\n",
    "            moda[i] = mode(Y[np.argwhere(kmeans.labels_ == i)])[0].astype(int)\n",
    "\n",
    "        #Reordenamos en base a la moda\n",
    "        predicted = moda[Y_pred]\n",
    "\n",
    "        # Acumulamos el porcentaje de acierto de cada partición\n",
    "        PCorrect += accuracy_score(predicted, Y[test_index]) / PARTITIONS\n",
    "        if PCorrect > bestPCorrect:\n",
    "            best = k\n",
    "            bestPCorrect = PCorrect\n",
    "    print(k,\"->\",PCorrect)\n",
    "            \n",
    "print(\"El número de clusters óptimo (procentaje de acierto del \",bestPCorrect,\") es \",best, \" .\")"
   ]
  }
 ],
 "metadata": {
  "kernelspec": {
   "display_name": "Python 3",
   "language": "python",
   "name": "python3"
  },
  "language_info": {
   "codemirror_mode": {
    "name": "ipython",
    "version": 3
   },
   "file_extension": ".py",
   "mimetype": "text/x-python",
   "name": "python",
   "nbconvert_exporter": "python",
   "pygments_lexer": "ipython3",
   "version": "3.6.8"
  }
 },
 "nbformat": 4,
 "nbformat_minor": 2
}
