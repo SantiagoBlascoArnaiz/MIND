{
 "cells": [
  {
   "cell_type": "markdown",
   "metadata": {},
   "source": [
    "# Práctica 3"
   ]
  },
  {
   "cell_type": "markdown",
   "metadata": {},
   "source": [
    "## Santiago Blasco Arnaiz"
   ]
  },
  {
   "cell_type": "markdown",
   "metadata": {},
   "source": [
    "# Algoritmo ABC"
   ]
  },
  {
   "cell_type": "code",
   "execution_count": 1,
   "metadata": {},
   "outputs": [],
   "source": [
    "import numpy as np\n",
    "from math import inf\n",
    "from scipy.cluster.hierarchy import dendrogram, linkage\n",
    "from matplotlib import pyplot as plt"
   ]
  },
  {
   "cell_type": "code",
   "execution_count": 2,
   "metadata": {},
   "outputs": [],
   "source": [
    "U = [[0,0.2,0.2,0.35,0.35],\n",
    "    [0.2,0,0.15,0.35,0.35],\n",
    "    [0.2,0.15,0,0.35,0.35],\n",
    "    [0.35,0.35,0.35,0,0.1],\n",
    "    [0.35,0.35,0.35,0.1,0]]"
   ]
  },
  {
   "cell_type": "code",
   "execution_count": 3,
   "metadata": {},
   "outputs": [],
   "source": [
    "#Devuelve el mínimo ([índiceX, índiceY, valor]) de la matriz tringular superior formada\n",
    "#a partir de la matriz que se le pasa con el formato  \n",
    "def minimum(M):\n",
    "    minX, minY = 0, 0\n",
    "    mini = inf\n",
    "    for j in range(len(M[0])):\n",
    "        for i in range(len(M)):\n",
    "            #Sólo la triangular superior\n",
    "            if i > j:\n",
    "                if M[i][j] < mini:\n",
    "                    minX = i\n",
    "                    minY = j\n",
    "                    mini = M[i][j]\n",
    "    return([minX,minY,mini])"
   ]
  },
  {
   "cell_type": "code",
   "execution_count": 4,
   "metadata": {},
   "outputs": [],
   "source": [
    "def abc(M):\n",
    "    #Copiamos la matriz para no modificar la original\n",
    "    T = M.copy()\n",
    "    \n",
    "    head = [0] * len(M)\n",
    "    U = []\n",
    "    index = len(M)\n",
    "    \n",
    "    #Cabecera de la matriz para conocer los índices de filas y columnas\n",
    "    #y saber cuantas muestras agrupa, inicialmente cada uno agrupa 1 muestra\n",
    "    for i in range(len(head)):\n",
    "        head[i] = [i,1]\n",
    "    \n",
    "    for _ in range(len(M)-1):\n",
    "        #Hallamos el mínimo de la matriz de distancias(sin contar la diagonal)\n",
    "        m = minimum(T)\n",
    "\n",
    "        #Cálculamos cual de los índices xy es el mínimo y cual el máximo\n",
    "        mini = min(m[0],m[1])\n",
    "        maxi = max(m[0],m[1])\n",
    "        \n",
    "        #Calculamos las distancias mínimas de la nueva agrupación\n",
    "        for i in range(len(T)):\n",
    "            T[mini][i] = min(T[mini][i],T[maxi][i])\n",
    "        for i in range(len(T)):\n",
    "            T[i][mini] = min(T[i][mini],T[i][maxi])\n",
    "        \n",
    "        #Eliminamos la fila y columna de x o y, en nuestro caso siempre eliminamos la mayor\n",
    "        T = np.delete(T,maxi,0)\n",
    "        T = np.delete(T,maxi,1)\n",
    "        \n",
    "        #Recalculamos las muestras que han sido agrupadas\n",
    "        head[mini][1] = head[mini][1] + head[maxi][1]\n",
    "        \n",
    "        #Añadimos a la matriz solución las muestras que han sido agrupadas, la altura a la que se han\n",
    "        #agrupado y el número de muestras que agrupan en total\n",
    "        U.append([min(head[mini][0],head[maxi][0]),max(head[mini][0],head[maxi][0]),m[2],head[mini][1]])\n",
    "        \n",
    "        #La nueva agrupación obtiene un número en base al último índice adjudicado\n",
    "        head[mini][0] = index\n",
    "        index = index + 1\n",
    "        \n",
    "        #Eliminamos de la cabecera el índice de la muestra agrupada\n",
    "        del head[maxi]\n",
    "    \n",
    "    #Convertimos a array de floats y lo devolvemos\n",
    "    U = np.array(U, dtype='float')\n",
    "    return U"
   ]
  },
  {
   "cell_type": "code",
   "execution_count": 5,
   "metadata": {},
   "outputs": [],
   "source": [
    "X = abc(U)"
   ]
  },
  {
   "cell_type": "code",
   "execution_count": 6,
   "metadata": {},
   "outputs": [
    {
     "data": {
      "image/png": "[encoded data removed]",
      "text/plain": [
       "<Figure size 720x720 with 1 Axes>"
      ]
     },
     "metadata": {
      "needs_background": "light"
     },
     "output_type": "display_data"
    }
   ],
   "source": [
    "fig = plt.figure(figsize=(10, 10))\n",
    "dn = dendrogram(X)"
   ]
  },
  {
   "cell_type": "markdown",
   "metadata": {},
   "source": [
    "# Algoritmo AC (Método del mínimo)"
   ]
  },
  {
   "cell_type": "code",
   "execution_count": 7,
   "metadata": {},
   "outputs": [],
   "source": [
    "U = [[0,1,3,4,7],\n",
    "    [1,0,4,4,8],\n",
    "    [3,4,0,2,8],\n",
    "    [4,4,2,0,7],\n",
    "    [7,8,8,7,0]]"
   ]
  },
  {
   "cell_type": "code",
   "execution_count": 8,
   "metadata": {},
   "outputs": [],
   "source": [
    "#Devuelve el mínimo ([índiceX, índiceY, valor]) de la matriz tringular superior formada\n",
    "#a partir de la matriz que se le pasa con el formato  \n",
    "def minimum(M):\n",
    "    minX, minY = 0, 0\n",
    "    mini = inf\n",
    "    for i in range(len(M)):\n",
    "        for j in range(len(M[0])):\n",
    "            #Sólo la triangular superior\n",
    "            if j > i:\n",
    "                if M[i][j] < mini:\n",
    "                    minX = i\n",
    "                    minY = j\n",
    "                    mini = M[i][j]\n",
    "    return([minX,minY,mini])"
   ]
  },
  {
   "cell_type": "code",
   "execution_count": 9,
   "metadata": {},
   "outputs": [],
   "source": [
    "def acMin(M):\n",
    "    #Copiamos la matriz para no modificar la original\n",
    "    T = M.copy()\n",
    "    \n",
    "    head = [0] * len(M)\n",
    "    U = []\n",
    "    index = len(M)\n",
    "    \n",
    "    #Cabecera de la matriz para conocer los índices de filas y columnas\n",
    "    #y saber cuantas muestras agrupa, inicialmente cada uno agrupa 1 muestra\n",
    "    for i in range(len(head)):\n",
    "        head[i] = [i,1]\n",
    "\n",
    "    for _ in range(len(M)-1):\n",
    "        #Hallamos el mínimo de la matriz de distancias(sin contar la diagonal)\n",
    "        m = minimum(T)\n",
    "        \n",
    "        #Cálculamos cual de los índices xy es el mínimo y cual el máximo\n",
    "        mini = min(m[0],m[1])\n",
    "        maxi = max(m[0],m[1])\n",
    "        \n",
    "        #Calculamos las distancias mínimas de la nueva agrupación\n",
    "        for i in range(len(T)):\n",
    "            T[mini][i] = min(T[mini][i],T[maxi][i])\n",
    "        for i in range(len(T)):\n",
    "            T[i][mini] = min(T[i][mini],T[i][maxi])\n",
    "\n",
    "        #Eliminamos la fila y columna de x o y, en nuestro caso siempre eliminamos la mayor\n",
    "        T = np.delete(T,maxi,0)\n",
    "        T = np.delete(T,maxi,1)\n",
    "\n",
    "        \n",
    "        #Recalculamos las muestras que han sido agrupadas\n",
    "        head[mini][1] = head[mini][1] + head[maxi][1]\n",
    "        \n",
    "        #Añadimos a la matriz solución las muestras que han sido agrupadas, la altura a la que se han\n",
    "        #agrupado y el número de muestras que agrupan en total\n",
    "        U.append([min(head[mini][0],head[maxi][0]),max(head[mini][0],head[maxi][0]),m[2],head[mini][1]])\n",
    "        \n",
    "        #La nueva agrupación obtiene un número en base al último índice adjudicado\n",
    "        head[mini][0] = index\n",
    "        index = index + 1\n",
    "        \n",
    "        #Eliminamos de la cabecera el índice de la muestra agrupada\n",
    "        del head[maxi]\n",
    "    \n",
    "    #Convertimos a array de floats y lo devolvemos\n",
    "    U = np.array(U, dtype='float')\n",
    "    return U"
   ]
  },
  {
   "cell_type": "code",
   "execution_count": 10,
   "metadata": {},
   "outputs": [],
   "source": [
    "X = acMin(U)"
   ]
  },
  {
   "cell_type": "code",
   "execution_count": 11,
   "metadata": {},
   "outputs": [
    {
     "data": {
      "image/png": "[encoded data removed]",
      "text/plain": [
       "<Figure size 720x720 with 1 Axes>"
      ]
     },
     "metadata": {
      "needs_background": "light"
     },
     "output_type": "display_data"
    }
   ],
   "source": [
    "fig = plt.figure(figsize=(10, 10))\n",
    "dn = dendrogram(X)\n",
    "plt.show()"
   ]
  },
  {
   "cell_type": "markdown",
   "metadata": {},
   "source": [
    "# Algoritmo AC (Método del máximo)"
   ]
  },
  {
   "cell_type": "code",
   "execution_count": 12,
   "metadata": {},
   "outputs": [],
   "source": [
    "U = [[0,1,3,4,7],\n",
    "    [1,0,4,4,8],\n",
    "    [3,4,0,2,8],\n",
    "    [4,4,2,0,7],\n",
    "    [7,8,8,7,0]]"
   ]
  },
  {
   "cell_type": "code",
   "execution_count": 13,
   "metadata": {},
   "outputs": [],
   "source": [
    "def acMax(M):\n",
    "    #Copiamos la matriz para no modificar la original\n",
    "    T = M.copy()\n",
    "    \n",
    "    head = [0] * len(M)\n",
    "    U = []\n",
    "    index = len(M)\n",
    "    \n",
    "    #Cabecera de la matriz para conocer los índices de filas y columnas\n",
    "    #y saber cuantas muestras agrupa, inicialmente cada uno agrupa 1 muestra\n",
    "    for i in range(len(head)):\n",
    "        head[i] = [i,1]\n",
    "\n",
    "    for _ in range(len(M)-1):\n",
    "        #Hallamos el mínimo de la matriz de distancias(sin contar la diagonal)\n",
    "        m = minimum(T)\n",
    "\n",
    "        #Cálculamos cual de los índices xy es el mínimo y cual el máximo\n",
    "        mini = min(m[0],m[1])\n",
    "        maxi = max(m[0],m[1])\n",
    "        \n",
    "        #Calculamos las distancias mínimas de la nueva agrupación\n",
    "        for i in range(len(T)):\n",
    "            T[mini][i] = max(T[mini][i],T[maxi][i])\n",
    "        for i in range(len(T)):\n",
    "            T[i][mini] = max(T[i][mini],T[i][maxi])\n",
    "        \n",
    "        #Eliminamos la fila y columna de x o y, en nuestro caso siempre eliminamos la mayor\n",
    "        T = np.delete(T,maxi,0)\n",
    "        T = np.delete(T,maxi,1)\n",
    "\n",
    "        #Recalculamos las muestras que han sido agrupadas\n",
    "        head[mini][1] = head[mini][1] + head[maxi][1]\n",
    "        \n",
    "        #Añadimos a la matriz solución las muestras que han sido agrupadas, la altura a la que se han\n",
    "        #agrupado y el número de muestras que agrupan en total\n",
    "        U.append([min(head[mini][0],head[maxi][0]),max(head[mini][0],head[maxi][0]),m[2],head[mini][1]])\n",
    "        \n",
    "        #La nueva agrupación obtiene un número en base al último índice adjudicado\n",
    "        head[mini][0] = index\n",
    "        index = index + 1\n",
    "        \n",
    "        #Eliminamos de la cabecera el índice de la muestra agrupada\n",
    "        del head[maxi]\n",
    "    \n",
    "    #Convertimos a array de floats y lo devolvemos\n",
    "    U = np.array(U, dtype='float')\n",
    "    return U"
   ]
  },
  {
   "cell_type": "code",
   "execution_count": 14,
   "metadata": {},
   "outputs": [],
   "source": [
    "Y = acMax(U)"
   ]
  },
  {
   "cell_type": "code",
   "execution_count": 15,
   "metadata": {},
   "outputs": [
    {
     "data": {
      "image/png": "[encoded data removed]",
      "text/plain": [
       "<Figure size 720x720 with 1 Axes>"
      ]
     },
     "metadata": {
      "needs_background": "light"
     },
     "output_type": "display_data"
    }
   ],
   "source": [
    "fig = plt.figure(figsize=(10, 10))\n",
    "dn = dendrogram(Y)\n",
    "plt.show()"
   ]
  },
  {
   "cell_type": "markdown",
   "metadata": {},
   "source": [
    "# Algoritmo AC (Método Ward)"
   ]
  },
  {
   "cell_type": "code",
   "execution_count": 16,
   "metadata": {},
   "outputs": [],
   "source": [
    "U = [[1,2],\n",
    "     [2,1],\n",
    "     [2,2.7],\n",
    "     [5,3],\n",
    "     [6.5,2],\n",
    "     [7,3]]"
   ]
  },
  {
   "cell_type": "code",
   "execution_count": 17,
   "metadata": {},
   "outputs": [],
   "source": [
    "#Calcula la heterogeneidad de un cluster\n",
    "#index contiene los índices de las muestras que forman el cluster\n",
    "#M contiene todas las muestras\n",
    "def heterogeneity(index,M):\n",
    "    T = M.copy()\n",
    "    h = 0\n",
    "    \n",
    "    for i in index:\n",
    "        for j in range(len(M[0])):\n",
    "            \n",
    "            mean = 0\n",
    "            for k in index:\n",
    "                mean = mean + (M[k][j]/len(index))\n",
    "            \n",
    "            h = h + np.power((M[i][j] - mean),2)\n",
    "    return h"
   ]
  },
  {
   "cell_type": "code",
   "execution_count": 18,
   "metadata": {},
   "outputs": [],
   "source": [
    "#M es la matriz con las muestras\n",
    "#numC el número de clusters total que se desea obtener\n",
    "def ward(M,numC):\n",
    "    T = M.copy()\n",
    "    \n",
    "    U = []\n",
    "    clusters = [[0]] * len(T)\n",
    "    index = len(T)\n",
    "    #Cabecera para poder numerar los clusters\n",
    "    head = [0] * len(T)\n",
    "    \n",
    "    #En un inicio hay tantos clusters como muestras\n",
    "    for i in range(len(clusters)):\n",
    "        clusters[i] = [i]\n",
    "        head[i] = i\n",
    "\n",
    "    while len(clusters) > numC:\n",
    "        hmin = inf\n",
    "        #Componentes del nuevo cluster\n",
    "        nc = []\n",
    "        #Índices de los clusters que componen el nuevo cluster\n",
    "        indexNC = [0,0]\n",
    "        \n",
    "        #Probamos todas las agrupaciones posibles y nos quedamos con la de menor heterogeneidad\n",
    "        for i in range(len(clusters)):\n",
    "            for j in range (len(clusters)):\n",
    "\n",
    "                if i != j:\n",
    "\n",
    "                    h = heterogeneity(clusters[i]+clusters[j],T)\n",
    "                    \n",
    "                    if h < hmin:\n",
    "                        hmin = h\n",
    "                        nc = clusters[i]+clusters[j]\n",
    "                        indexNC = [i,j]\n",
    "        \n",
    "        \n",
    "        indexNC.sort(reverse=True)\n",
    "        #Calculamos la altura en función de la raíz cuadrada de la heterogeneidad para escalar\n",
    "        #Ya que sino no se aprecian bien las alturas\n",
    "        U.append([head[indexNC[1]],head[indexNC[0]],np.sqrt(hmin),len(nc)])\n",
    "        #Eliminamos los clusters que componen el nuevo cluster\n",
    "        for i in indexNC:\n",
    "            del clusters[i]\n",
    "            del head[i]\n",
    "        #Añadimos el nuevo cluster\n",
    "        clusters.append(nc)\n",
    "        head.append(index)\n",
    "        index = index + 1\n",
    "    \n",
    "    U = np.array(U, dtype='float')\n",
    "        \n",
    "    return U"
   ]
  },
  {
   "cell_type": "code",
   "execution_count": 19,
   "metadata": {},
   "outputs": [],
   "source": [
    "X = ward(U,1)"
   ]
  },
  {
   "cell_type": "code",
   "execution_count": 20,
   "metadata": {},
   "outputs": [
    {
     "data": {
      "image/png": "[encoded data removed]",
      "text/plain": [
       "<Figure size 720x720 with 1 Axes>"
      ]
     },
     "metadata": {
      "needs_background": "light"
     },
     "output_type": "display_data"
    }
   ],
   "source": [
    "fig = plt.figure(figsize=(10, 10))\n",
    "dn = dendrogram(X)"
   ]
  },
  {
   "cell_type": "markdown",
   "metadata": {},
   "source": [
    "Si buscamos obtener sólo 3 clsuters esta sería la composición de dichos clusters"
   ]
  },
  {
   "cell_type": "code",
   "execution_count": 21,
   "metadata": {},
   "outputs": [
    {
     "data": {
      "text/plain": [
       "array([[4.        , 5.        , 0.79056942, 2.        ],\n",
       "       [0.        , 2.        , 0.86313383, 2.        ],\n",
       "       [1.        , 7.        , 1.45830952, 3.        ]])"
      ]
     },
     "execution_count": 21,
     "metadata": {},
     "output_type": "execute_result"
    }
   ],
   "source": [
    "X = ward(U,3)\n",
    "X"
   ]
  },
  {
   "cell_type": "markdown",
   "metadata": {},
   "source": [
    "Primer cluster: 4 y 5\n",
    "Segundo cluster: 1, 0 y 2\n",
    "Tercer cluster: 3"
   ]
  },
  {
   "cell_type": "markdown",
   "metadata": {},
   "source": [
    "### Utilizando el método de scipy"
   ]
  },
  {
   "cell_type": "code",
   "execution_count": 22,
   "metadata": {},
   "outputs": [],
   "source": [
    "U = [[1,2],\n",
    "     [2,1],\n",
    "     [2,2.7],\n",
    "     [5,3],\n",
    "     [6.5,2],\n",
    "     [7,3]]"
   ]
  },
  {
   "cell_type": "code",
   "execution_count": 23,
   "metadata": {},
   "outputs": [
    {
     "data": {
      "image/png": "[encoded data removed]",
      "text/plain": [
       "<Figure size 720x720 with 1 Axes>"
      ]
     },
     "metadata": {
      "needs_background": "light"
     },
     "output_type": "display_data"
    }
   ],
   "source": [
    "Z = linkage(U, 'ward')\n",
    "fig = plt.figure(figsize=(10, 10))\n",
    "dn = dendrogram(Z)"
   ]
  },
  {
   "cell_type": "markdown",
   "metadata": {},
   "source": [
    "# Gráfica de resultados para kmeans y AC (varios métodos) utilizando Iris"
   ]
  },
  {
   "cell_type": "code",
   "execution_count": 24,
   "metadata": {},
   "outputs": [],
   "source": [
    "from sklearn.datasets import load_iris\n",
    "from sklearn.preprocessing import scale\n",
    "from sklearn.cluster import AgglomerativeClustering\n",
    "from sklearn.metrics import accuracy_score\n",
    "from scipy.stats import mode\n",
    "from sklearn.preprocessing import scale\n",
    "from sklearn.cluster import KMeans\n",
    "import pandas as pd"
   ]
  },
  {
   "cell_type": "code",
   "execution_count": 25,
   "metadata": {},
   "outputs": [],
   "source": [
    "#Cargamos el dataset\n",
    "iris = load_iris()\n",
    "X,Y = load_iris(return_X_y=True)\n",
    "\n",
    "#Escalamos los datos\n",
    "X = scale(X)\n",
    "\n",
    "max_clusters = 15\n",
    "min_clusters = 3"
   ]
  },
  {
   "cell_type": "markdown",
   "metadata": {},
   "source": [
    "### Porcentaje de aciertos con kmeans"
   ]
  },
  {
   "cell_type": "code",
   "execution_count": 26,
   "metadata": {},
   "outputs": [],
   "source": [
    "#Contiene el porcentaje de aciertos\n",
    "aciertosKmeans = np.zeros(max_clusters-2, dtype='float')\n",
    "\n",
    "for k in range(min_clusters, max_clusters+1):\n",
    "    kmeans = KMeans(n_clusters=k, random_state=7)\n",
    "    #Entrenamiento\n",
    "    kmeans.fit(X)\n",
    "    moda = -1 * np.ones(k, dtype='int')\n",
    "    for i in range(k):\n",
    "        #Sacamos la moda de cada cluster\n",
    "        moda[i] = mode(Y[np.argwhere(kmeans.labels_ == i)])[0].astype(int)\n",
    "    #Predicción\n",
    "    y_predict = moda[kmeans.labels_]\n",
    "    #Calculamos el porcentaje de acierto\n",
    "    aciertosKmeans[k-3] = accuracy_score(Y, y_predict)"
   ]
  },
  {
   "cell_type": "markdown",
   "metadata": {},
   "source": [
    "### Porcentaje de aciertos con AC método min"
   ]
  },
  {
   "cell_type": "code",
   "execution_count": 27,
   "metadata": {},
   "outputs": [],
   "source": [
    "#Contiene el porcentaje de aciertos\n",
    "aciertosMin = np.zeros(max_clusters-2, dtype='float')\n",
    "\n",
    "for k in range(min_clusters, max_clusters+1):\n",
    "    clustering = AgglomerativeClustering(n_clusters= k, linkage=\"single\")\n",
    "    #Entrenamiento\n",
    "    clustering.fit(X)\n",
    "    moda = -1 * np.ones(k, dtype='int')\n",
    "    for i in range(k):\n",
    "        #Sacamos la moda de cada cluster\n",
    "        moda[i] = mode(Y[np.argwhere(clustering.labels_ == i)])[0].astype(int)\n",
    "    #Predicción\n",
    "    y_predict = moda[clustering.labels_]\n",
    "    #Calculamos el porcentaje de acierto\n",
    "    aciertosMin[k-3] = accuracy_score(Y, y_predict)"
   ]
  },
  {
   "cell_type": "markdown",
   "metadata": {},
   "source": [
    "### Porcentaje de aciertos con AC método max"
   ]
  },
  {
   "cell_type": "code",
   "execution_count": 28,
   "metadata": {},
   "outputs": [],
   "source": [
    "#Contiene el porcentaje de aciertos\n",
    "aciertosMax = np.zeros(max_clusters-2, dtype='float')\n",
    "\n",
    "for k in range(min_clusters, max_clusters+1):\n",
    "    clustering = AgglomerativeClustering(n_clusters= k, linkage=\"complete\")\n",
    "    #Entrenamiento\n",
    "    clustering.fit(X)\n",
    "    moda = -1 * np.ones(k, dtype='int')\n",
    "    for i in range(k):\n",
    "        #Sacamos la moda de cada cluster\n",
    "        moda[i] = mode(Y[np.argwhere(clustering.labels_ == i)])[0].astype(int)\n",
    "    #Predicción\n",
    "    y_predict = moda[clustering.labels_]\n",
    "    #Calculamos el porcentaje de acierto\n",
    "    aciertosMax[k-3] = accuracy_score(Y, y_predict)"
   ]
  },
  {
   "cell_type": "markdown",
   "metadata": {},
   "source": [
    "### Porcentaje de aciertos con AC método media"
   ]
  },
  {
   "cell_type": "code",
   "execution_count": 29,
   "metadata": {},
   "outputs": [],
   "source": [
    "#Contiene el porcentaje de aciertos\n",
    "aciertosMedia = np.zeros(max_clusters-2, dtype='float')\n",
    "\n",
    "for k in range(min_clusters, max_clusters+1):\n",
    "    clustering = AgglomerativeClustering(n_clusters= k, linkage=\"average\")\n",
    "    #Entrenamiento\n",
    "    clustering.fit(X)\n",
    "    moda = -1 * np.ones(k, dtype='int')\n",
    "    for i in range(k):\n",
    "        #Sacamos la moda de cada cluster\n",
    "        moda[i] = mode(Y[np.argwhere(clustering.labels_ == i)])[0].astype(int)\n",
    "    #Predicción\n",
    "    y_predict = moda[clustering.labels_]\n",
    "    #Calculamos el porcentaje de acierto\n",
    "    aciertosMedia[k-3] = accuracy_score(Y, y_predict)"
   ]
  },
  {
   "cell_type": "markdown",
   "metadata": {},
   "source": [
    "### Porcentaje de aciertos con AC método Ward"
   ]
  },
  {
   "cell_type": "code",
   "execution_count": 30,
   "metadata": {},
   "outputs": [],
   "source": [
    "#Contiene el porcentaje de aciertos\n",
    "aciertosWard = np.zeros(max_clusters-2, dtype='float')\n",
    "\n",
    "for k in range(min_clusters, max_clusters+1):\n",
    "    clustering = AgglomerativeClustering(n_clusters= k, linkage=\"ward\")\n",
    "    #Entrenamiento\n",
    "    clustering.fit(X)\n",
    "    moda = -1 * np.ones(k, dtype='int')\n",
    "    for i in range(k):\n",
    "        #Sacamos la moda de cada cluster\n",
    "        moda[i] = mode(Y[np.argwhere(clustering.labels_ == i)])[0].astype(int)\n",
    "    #Predicción\n",
    "    y_predict = moda[clustering.labels_]\n",
    "    #Calculamos el porcentaje de acierto\n",
    "    aciertosWard[k-3] = accuracy_score(Y, y_predict)"
   ]
  },
  {
   "cell_type": "markdown",
   "metadata": {},
   "source": [
    "### Gráfico multilínea"
   ]
  },
  {
   "cell_type": "code",
   "execution_count": 48,
   "metadata": {},
   "outputs": [
    {
     "data": {
      "text/plain": [
       "<matplotlib.legend.Legend at 0x7f4430442860>"
      ]
     },
     "execution_count": 48,
     "metadata": {},
     "output_type": "execute_result"
    },
    {
     "data": {
      "image/png": "[encoded data removed]",
      "text/plain": [
       "<Figure size 1080x576 with 1 Axes>"
      ]
     },
     "metadata": {
      "needs_background": "light"
     },
     "output_type": "display_data"
    }
   ],
   "source": [
    "plt.figure(figsize=(15, 8))\n",
    "#Cargamos los datos\n",
    "df=pd.DataFrame({'clusters': range(3,16),\n",
    "                 'kmeans': aciertosKmeans,\n",
    "                 'min': aciertosMin,\n",
    "                 'max': aciertosMax,\n",
    "                 'media': aciertosMedia,\n",
    "                 'ward': aciertosWard})\n",
    "\n",
    "#Estilo del gráfico\n",
    "plt.style.use('seaborn-bright')\n",
    "\n",
    "#Creamos la paleta de color\n",
    "palette = plt.get_cmap('Paired')\n",
    "\n",
    "#Gráfico de varias líneas\n",
    "num=0\n",
    "for column in df.drop('clusters', axis=1):\n",
    "    num=num+1\n",
    "    plt.plot(df['clusters'], df[column], marker='o', color=palette(num), linewidth=2.5, alpha=0.9, label=column)\n",
    "\n",
    "#Títulos\n",
    "plt.title(\"Tasas de acierto\", loc='left', fontsize=24, fontweight=0, color='black')\n",
    "plt.xlabel(\"Número de clusters\")\n",
    "plt.ylabel(\"Porcentaje de acierto\")\n",
    "\n",
    "#Leyenda\n",
    "plt.legend(loc=2, ncol=5)\n"
   ]
  },
  {
   "cell_type": "code",
   "execution_count": null,
   "metadata": {},
   "outputs": [],
   "source": []
  }
 ],
 "metadata": {
  "kernelspec": {
   "display_name": "Python 3",
   "language": "python",
   "name": "python3"
  },
  "language_info": {
   "codemirror_mode": {
    "name": "ipython",
    "version": 3
   },
   "file_extension": ".py",
   "mimetype": "text/x-python",
   "name": "python",
   "nbconvert_exporter": "python",
   "pygments_lexer": "ipython3",
   "version": "3.6.8"
  }
 },
 "nbformat": 4,
 "nbformat_minor": 2
}
