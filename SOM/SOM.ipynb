{
 "cells": [
  {
   "cell_type": "markdown",
   "metadata": {},
   "source": [
    "# Mapas autoorgnizados"
   ]
  },
  {
   "cell_type": "markdown",
   "metadata": {},
   "source": [
    "## Santiago Blasco Arnaiz "
   ]
  },
  {
   "cell_type": "code",
   "execution_count": 1,
   "metadata": {},
   "outputs": [],
   "source": [
    "import numpy as np\n",
    "from sklearn.datasets import fetch_mldata\n",
    "from sklearn.utils import check_array\n",
    "from sklearn.preprocessing import normalize\n",
    "from sklearn.model_selection import train_test_split\n",
    "from sklearn.metrics import accuracy_score\n",
    "from scipy.stats import mode"
   ]
  },
  {
   "cell_type": "code",
   "execution_count": 2,
   "metadata": {},
   "outputs": [],
   "source": [
    "class Neurona:\n",
    "    \n",
    "    def __init__(self, size, x, y):\n",
    "        self.weightVec = normalize(0.5 - np.random.rand(1,size))[0]\n",
    "        self.x = x\n",
    "        self.y = y\n",
    "        self.size = size\n",
    "    \n",
    "    def predict(self, input):\n",
    "        return self.weightVec @ input.T\n",
    "    \n",
    "    def fit(self, input, alfa):\n",
    "        self.weightVec = normalize(self.weightVec + (alfa*input))\n",
    "    \n",
    "    def neuron_labeling(self, input, target):\n",
    "        max = np.argmax(input @ self.weightVec.T)\n",
    "        self.label = target[max]\n",
    "        return self.label\n",
    "    \n",
    "    def print_weightVec(self):\n",
    "        print(self.x,self.y,self.weightVec)\n",
    "    \n",
    "    def getX(self):\n",
    "        return self.x\n",
    "\n",
    "    def getY(self):\n",
    "        return self.y\n",
    "    "
   ]
  },
  {
   "cell_type": "markdown",
   "metadata": {},
   "source": [
    "## SOM implementado con el método del coseno"
   ]
  },
  {
   "cell_type": "code",
   "execution_count": 3,
   "metadata": {},
   "outputs": [],
   "source": [
    "class SOM:\n",
    "    \n",
    "    def __init__(self, x, y, size, radious):\n",
    "        self.map = []\n",
    "        self.dimX = x\n",
    "        self.dimY = y\n",
    "        self.radious = radious\n",
    "        \n",
    "        #Creamos el mapa de neuronas\n",
    "        for i in range(x):\n",
    "            for j in range(y):\n",
    "                self.map.append(Neurona(size,i,j))\n",
    "    \n",
    "    #Para testear\n",
    "    def print_map(self):\n",
    "        for i in self.map:\n",
    "            i.print_weightVec()\n",
    "    \n",
    "    #Devuelve la neurona indicada\n",
    "    def get_neuron(self,x,y):\n",
    "        indice = y * self.dimX + x\n",
    "        return self.map[indice]\n",
    "    \n",
    "    #Ajuste\n",
    "    def fit(self, input, radious, alfa, times):\n",
    "        self.radious = radious\n",
    "        \n",
    "        self.alfa = alfa\n",
    "        t = 0\n",
    "        \n",
    "        #Para cada dato de la entrada y en cada época\n",
    "        for time in range(times):\n",
    "            print(\"TIME\",time)\n",
    "            for x in input:\n",
    "                #Modificación del alfa\n",
    "                self.alfa = alfa / 1 + (t/input.shape[0])\n",
    "                t += 1\n",
    "                \n",
    "                #Mayor valor\n",
    "                winValue = 0\n",
    "                \n",
    "                for n in self.map:\n",
    "                    value = n.predict(x)\n",
    "                    if value > winValue:\n",
    "                        winValue = value\n",
    "                        #X e Y de la neurona ganadora\n",
    "                        winX = n.getX()\n",
    "                        winY = n.getY()\n",
    "                #X e Y iniciales en la superficie de radio indicado\n",
    "                beginX = winX - self.radious\n",
    "                beginY = winY - self.radious\n",
    "                \n",
    "                #Reajustamos los pesos de las neuronas vecinas a la ganadora\n",
    "                for i in range( (self.radious*2) + 1 ):\n",
    "                    for j in range( (self.radious*2) + 1 ):\n",
    "                        self.get_neuron((beginX + i)%self.dimX, (beginY + j)%self.dimY).fit(x.reshape(1,-1),self.alfa)\n",
    "            #Decrementamos el radio\n",
    "            if self.radious > 0:\n",
    "                self.radious -= 1\n",
    "    \n",
    "    #Etiquetas según neurona\n",
    "    def labelByNeuron(self, input, target):\n",
    "        #Máximo de cada neurona\n",
    "        self.labels = []\n",
    "        for n in self.map:\n",
    "            self.labels.append(n.neuron_labeling(input, target))\n",
    "    \n",
    "    #Etiquetas según moda\n",
    "    def labelByMode(self, input, target):\n",
    "        self.labels = [[] for _ in self.map]\n",
    "        \n",
    "        #Guardamos el valor objetivo del mayor valor predicho para cada dato\n",
    "        for x in range(input.shape[0]):\n",
    "\n",
    "            pred = self.predict(input[x].reshape(1,-1))\n",
    "            self.labels[np.argmax(pred)].append(target[x])\n",
    "        #Hayamos la moda para cada neurona\n",
    "        for i in range(len(self.labels)):\n",
    "            if self.labels[i] != []:\n",
    "                \n",
    "                self.labels[i] = mode(np.array(self.labels[i]))[0][0]\n",
    "            else:\n",
    "                self.labels[i] = -1\n",
    "        \n",
    "    #Predicción de etiquetas\n",
    "    def label_predict(self, input):\n",
    "        labelList = []\n",
    "        for x in input:\n",
    "            labelList.append(self.labels[np.argmax(self.predict(x.reshape(1,-1)))])\n",
    "        return np.array(labelList).reshape(input.shape[0],-1)\n",
    "    \n",
    "    #Predicción\n",
    "    def predict(self, input):\n",
    "        output = []\n",
    "        for x in input:\n",
    "            for n in self.map:\n",
    "                output.append(n.predict(x.reshape(1,-1)))\n",
    "        return np.array(output).reshape(input.shape[0],-1)"
   ]
  },
  {
   "cell_type": "markdown",
   "metadata": {},
   "source": [
    "## Datos del ejercicio"
   ]
  },
  {
   "cell_type": "code",
   "execution_count": 4,
   "metadata": {},
   "outputs": [],
   "source": [
    "sizeX = 12\n",
    "sizeY = 8\n",
    "radious = 3\n",
    "alfa = 20\n",
    "times = 5"
   ]
  },
  {
   "cell_type": "markdown",
   "metadata": {},
   "source": [
    "Descargamos el dataset, le añadimos una muestra más a cada dato y lo normalizamos"
   ]
  },
  {
   "cell_type": "code",
   "execution_count": 5,
   "metadata": {},
   "outputs": [
    {
     "name": "stderr",
     "output_type": "stream",
     "text": [
      "/home/sanblas/mind/mind_env/lib/python3.6/site-packages/sklearn/utils/deprecation.py:85: DeprecationWarning: Function fetch_mldata is deprecated; fetch_mldata was deprecated in version 0.20 and will be removed in version 0.22. Please use fetch_openml.\n",
      "  warnings.warn(msg, category=DeprecationWarning)\n",
      "/home/sanblas/mind/mind_env/lib/python3.6/site-packages/sklearn/utils/deprecation.py:85: DeprecationWarning: Function mldata_filename is deprecated; mldata_filename was deprecated in version 0.20 and will be removed in version 0.22. Please use fetch_openml.\n",
      "  warnings.warn(msg, category=DeprecationWarning)\n"
     ]
    },
    {
     "name": "stdout",
     "output_type": "stream",
     "text": [
      "mnist (70000, 784)\n",
      "mnist extendido (70000, 785)\n",
      "Train (60000, 785) (60000,) Test (10000, 785) (10000,)\n"
     ]
    }
   ],
   "source": [
    "mnist = fetch_mldata(\"MNIST original\")\n",
    "print(\"mnist\",mnist.data.shape)\n",
    "\n",
    "\n",
    "X = normalize(np.c_[mnist.data, np.ones(mnist.data.shape[0])])\n",
    "X.shape\n",
    "print(\"mnist extendido\",X.shape)\n",
    "\n",
    "#Separamos el dataset para entrenamiento y prueba\n",
    "x_train, x_test, y_train, y_test = train_test_split(X, mnist.target, test_size=10000)\n",
    "print(\"Train\",x_train.shape, y_train.shape,\"Test\", x_test.shape, y_test.shape)\n",
    "\n",
    "\n"
   ]
  },
  {
   "cell_type": "markdown",
   "metadata": {},
   "source": [
    "## Creación del mapa autoorganizado"
   ]
  },
  {
   "cell_type": "code",
   "execution_count": 6,
   "metadata": {},
   "outputs": [],
   "source": [
    "SOMap = SOM(sizeX, sizeY, x_train.shape[1], radious)"
   ]
  },
  {
   "cell_type": "markdown",
   "metadata": {},
   "source": [
    "Ajuste"
   ]
  },
  {
   "cell_type": "code",
   "execution_count": 7,
   "metadata": {},
   "outputs": [
    {
     "name": "stdout",
     "output_type": "stream",
     "text": [
      "TIME 0\n",
      "TIME 1\n",
      "TIME 2\n",
      "TIME 3\n",
      "TIME 4\n"
     ]
    }
   ],
   "source": [
    "SOMap.fit(x_train, radious, alfa, times)"
   ]
  },
  {
   "cell_type": "markdown",
   "metadata": {},
   "source": [
    "## Etiquetado por neuronas"
   ]
  },
  {
   "cell_type": "code",
   "execution_count": 8,
   "metadata": {},
   "outputs": [],
   "source": [
    "SOMap.labelByNeuron(x_train,y_train)"
   ]
  },
  {
   "cell_type": "code",
   "execution_count": 9,
   "metadata": {},
   "outputs": [],
   "source": [
    "predicho = SOMap.label_predict(x_test)"
   ]
  },
  {
   "cell_type": "code",
   "execution_count": 10,
   "metadata": {},
   "outputs": [
    {
     "name": "stdout",
     "output_type": "stream",
     "text": [
      "0.7346\n"
     ]
    }
   ],
   "source": [
    "print(accuracy_score(predicho, y_test))"
   ]
  },
  {
   "cell_type": "markdown",
   "metadata": {},
   "source": [
    "Este es el porcentaje de acierto utilizando etiquetado por neuronas"
   ]
  },
  {
   "cell_type": "markdown",
   "metadata": {},
   "source": [
    "## Etiquetado por moda"
   ]
  },
  {
   "cell_type": "code",
   "execution_count": 11,
   "metadata": {},
   "outputs": [],
   "source": [
    "SOMap.labelByMode(x_train,y_train)"
   ]
  },
  {
   "cell_type": "code",
   "execution_count": 12,
   "metadata": {},
   "outputs": [],
   "source": [
    "predicho = SOMap.label_predict(x_test)"
   ]
  },
  {
   "cell_type": "code",
   "execution_count": 13,
   "metadata": {},
   "outputs": [
    {
     "name": "stdout",
     "output_type": "stream",
     "text": [
      "0.7488\n"
     ]
    }
   ],
   "source": [
    "print(accuracy_score(predicho, y_test))"
   ]
  },
  {
   "cell_type": "markdown",
   "metadata": {},
   "source": [
    "Este es el porcentaje de acierto utilizando etiquetado por moda"
   ]
  }
 ],
 "metadata": {
  "kernelspec": {
   "display_name": "Python 3",
   "language": "python",
   "name": "python3"
  },
  "language_info": {
   "codemirror_mode": {
    "name": "ipython",
    "version": 3
   },
   "file_extension": ".py",
   "mimetype": "text/x-python",
   "name": "python",
   "nbconvert_exporter": "python",
   "pygments_lexer": "ipython3",
   "version": "3.6.8"
  }
 },
 "nbformat": 4,
 "nbformat_minor": 2
}
