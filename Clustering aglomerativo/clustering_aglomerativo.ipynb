{
 "cells": [
  {
   "cell_type": "code",
   "execution_count": 2,
   "metadata": {},
   "outputs": [],
   "source": [
    "import numpy as np\n",
    "from sklearn.datasets import load_iris\n",
    "from sklearn.preprocessing import scale\n",
    "from sklearn.cluster import AgglomerativeClustering\n",
    "from sklearn.metrics import accuracy_score\n",
    "from scipy.stats import mode"
   ]
  },
  {
   "cell_type": "code",
   "execution_count": 6,
   "metadata": {},
   "outputs": [],
   "source": [
    "iris = load_iris()\n",
    "X,Y = load_iris(return_X_y=True)"
   ]
  },
  {
   "cell_type": "code",
   "execution_count": 7,
   "metadata": {},
   "outputs": [],
   "source": [
    "X = scale(X)"
   ]
  },
  {
   "cell_type": "code",
   "execution_count": 11,
   "metadata": {},
   "outputs": [
    {
     "name": "stdout",
     "output_type": "stream",
     "text": [
      "3 -> 0.8266666666666667\n",
      "4 -> 0.8333333333333334\n",
      "5 -> 0.8333333333333334\n",
      "6 -> 0.8333333333333334\n",
      "7 -> 0.8333333333333334\n",
      "8 -> 0.8333333333333334\n",
      "9 -> 0.8333333333333334\n",
      "10 -> 0.8933333333333333\n",
      "11 -> 0.8933333333333333\n",
      "12 -> 0.9266666666666666\n",
      "13 -> 0.9266666666666666\n",
      "14 -> 0.9333333333333333\n",
      "15 -> 0.9333333333333333\n"
     ]
    }
   ],
   "source": [
    "max_clusters = 15\n",
    "aciertos = np.zeros(max_clusters-2, dtype='float')\n",
    "for k in range(3, max_clusters+1):\n",
    "    clustering = AgglomerativeClustering(n_clusters=k)\n",
    "    clustering.fit(X)\n",
    "    moda = -1 * np.ones(k, dtype='int')\n",
    "    for i in range(k):\n",
    "        moda[i] = mode(Y[np.argwhere(clustering.labels_ == i)])[0].astype(int)\n",
    "    y_predict = moda[clustering.labels_]\n",
    "    aciertos[k-3] = accuracy_score(Y, y_predict)\n",
    "    \n",
    "    print(k, \"->\", aciertos[k-3])"
   ]
  },
  {
   "cell_type": "code",
   "execution_count": 14,
   "metadata": {},
   "outputs": [],
   "source": [
    "import matplotlib\n",
    "import matplotlib.pyplot as plt"
   ]
  },
  {
   "cell_type": "code",
   "execution_count": 15,
   "metadata": {},
   "outputs": [
    {
     "data": {
      "image/png": "[encoded data removed]",
      "text/plain": [
       "<Figure size 432x288 with 1 Axes>"
      ]
     },
     "metadata": {
      "needs_background": "light"
     },
     "output_type": "display_data"
    }
   ],
   "source": [
    "plt.bar(np.arange(3,max_clusters+1, dtype='int'),aciertos)\n",
    "plt.title(\"IRIS: Clustering Aglomerativo\")\n",
    "plt.xlabel(\"Nº clusters\")\n",
    "plt.ylabel(\"Tasa aciertos\")\n",
    "plt.show()"
   ]
  },
  {
   "cell_type": "code",
   "execution_count": null,
   "metadata": {},
   "outputs": [],
   "source": []
  }
 ],
 "metadata": {
  "kernelspec": {
   "display_name": "Python 3",
   "language": "python",
   "name": "python3"
  },
  "language_info": {
   "codemirror_mode": {
    "name": "ipython",
    "version": 3
   },
   "file_extension": ".py",
   "mimetype": "text/x-python",
   "name": "python",
   "nbconvert_exporter": "python",
   "pygments_lexer": "ipython3",
   "version": "3.6.8"
  }
 },
 "nbformat": 4,
 "nbformat_minor": 2
}
